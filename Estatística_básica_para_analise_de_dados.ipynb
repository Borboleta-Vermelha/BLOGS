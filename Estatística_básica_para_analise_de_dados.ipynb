{
  "nbformat": 4,
  "nbformat_minor": 0,
  "metadata": {
    "colab": {
      "provenance": [],
      "authorship_tag": "ABX9TyMpRg1ME5lAmwBEMxnzP66U",
      "include_colab_link": true
    },
    "kernelspec": {
      "name": "python3",
      "display_name": "Python 3"
    },
    "language_info": {
      "name": "python"
    }
  },
  "cells": [
    {
      "cell_type": "markdown",
      "metadata": {
        "id": "view-in-github",
        "colab_type": "text"
      },
      "source": [
        "<a href=\"https://colab.research.google.com/github/Borboleta-Vermelha/BLOGS/blob/main/Estat%C3%ADstica_b%C3%A1sica_para_analise_de_dados.ipynb\" target=\"_parent\"><img src=\"https://colab.research.google.com/assets/colab-badge.svg\" alt=\"Open In Colab\"/></a>"
      ]
    },
    {
      "cell_type": "code",
      "execution_count": 1,
      "metadata": {
        "id": "yywbmAuvkhtl"
      },
      "outputs": [],
      "source": [
        "import numpy as np\n",
        "from scipy import stats"
      ]
    },
    {
      "cell_type": "code",
      "source": [
        "Base_De_Dados = [29, 34, 48, 47, 41, 38, 33, 42, 43, 22, 35, 43, 25, 34, 25, 28, 34, 32, 47,\n",
        " 46, 27, 44, 22, 35, 20, 49, 43, 34, 43, 42, 30, 26, 43, 33, 24, 27, 45, 49, 41, 28]"
      ],
      "metadata": {
        "id": "WXT6fVMZkxdD"
      },
      "execution_count": 2,
      "outputs": []
    },
    {
      "cell_type": "markdown",
      "source": [
        "## MEDIDAS DE TENDÊNCIA CENTRAL:"
      ],
      "metadata": {
        "id": "DsRD0KsiYX2u"
      }
    },
    {
      "cell_type": "code",
      "source": [
        "media = np.mean(Base_De_Dados)\n",
        "print(\"Média:\", media)"
      ],
      "metadata": {
        "colab": {
          "base_uri": "https://localhost:8080/"
        },
        "id": "86zBwOOJmla9",
        "outputId": "29df2714-4de9-4f6c-efee-d906cc714254"
      },
      "execution_count": 4,
      "outputs": [
        {
          "output_type": "stream",
          "name": "stdout",
          "text": [
            "Média: 35.775\n"
          ]
        }
      ]
    },
    {
      "cell_type": "code",
      "source": [
        "mediana = np.median(Base_De_Dados)\n",
        "print(\"Mediana:\", mediana)"
      ],
      "metadata": {
        "id": "60JboLVbsrDh",
        "colab": {
          "base_uri": "https://localhost:8080/"
        },
        "outputId": "5b18e28a-7d4e-4e04-b56b-72b2502a73bb"
      },
      "execution_count": 7,
      "outputs": [
        {
          "output_type": "stream",
          "name": "stdout",
          "text": [
            "Mediana: 34.5\n"
          ]
        }
      ]
    },
    {
      "cell_type": "code",
      "source": [
        "moda = stats.mode(Base_De_Dados)\n",
        "print(\"Moda:\", moda)"
      ],
      "metadata": {
        "colab": {
          "base_uri": "https://localhost:8080/"
        },
        "id": "TfKY5TIYKRDg",
        "outputId": "1b9882b5-0caa-4237-a686-5efc8f0ff978"
      },
      "execution_count": 11,
      "outputs": [
        {
          "output_type": "stream",
          "name": "stdout",
          "text": [
            "Moda: ModeResult(mode=43, count=5)\n"
          ]
        }
      ]
    },
    {
      "cell_type": "markdown",
      "source": [
        "## MEDIDAS DE DISPERSÃO"
      ],
      "metadata": {
        "id": "xrQa1nIqYMHi"
      }
    },
    {
      "cell_type": "code",
      "source": [
        "np.max(Base_De_Dados)\n",
        "np.min(Base_De_Dados)"
      ],
      "metadata": {
        "colab": {
          "base_uri": "https://localhost:8080/"
        },
        "id": "20HVm1Nbk8RX",
        "outputId": "b91abc58-20f8-4153-a028-c99cff383a01"
      },
      "execution_count": 17,
      "outputs": [
        {
          "output_type": "execute_result",
          "data": {
            "text/plain": [
              "20"
            ]
          },
          "metadata": {},
          "execution_count": 17
        }
      ]
    },
    {
      "cell_type": "code",
      "source": [
        "amplitude = np.max(Base_De_Dados) - np.min(Base_De_Dados)\n",
        "print(\"Amplitude:\", amplitude)"
      ],
      "metadata": {
        "colab": {
          "base_uri": "https://localhost:8080/"
        },
        "id": "8UJaJ4y1LZxU",
        "outputId": "7677189a-c890-40fc-9169-76da021116ee"
      },
      "execution_count": 13,
      "outputs": [
        {
          "output_type": "stream",
          "name": "stdout",
          "text": [
            "Amplitude: 29\n"
          ]
        }
      ]
    },
    {
      "cell_type": "code",
      "source": [
        "variancia = np.var(Base_De_Dados)\n",
        "print(\"Variância:\", variancia)"
      ],
      "metadata": {
        "colab": {
          "base_uri": "https://localhost:8080/"
        },
        "id": "ycptNP8PYNyX",
        "outputId": "8b00fda6-80cd-4ba1-84e0-b54d99573539"
      },
      "execution_count": 15,
      "outputs": [
        {
          "output_type": "stream",
          "name": "stdout",
          "text": [
            "Variância: 72.474375\n"
          ]
        }
      ]
    },
    {
      "cell_type": "code",
      "source": [
        "desvio_padrao = np.std(Base_De_Dados)\n",
        "print(\"Desvio Padrão:\", desvio_padrao)"
      ],
      "metadata": {
        "colab": {
          "base_uri": "https://localhost:8080/"
        },
        "id": "ITwJL6CWiGG9",
        "outputId": "28e77114-752e-44ff-cf62-d2126fbcc614"
      },
      "execution_count": 19,
      "outputs": [
        {
          "output_type": "stream",
          "name": "stdout",
          "text": [
            "Desvio Padrão: 8.513188298164208\n"
          ]
        }
      ]
    },
    {
      "cell_type": "code",
      "source": [],
      "metadata": {
        "id": "4h0Myj_XlZke"
      },
      "execution_count": null,
      "outputs": []
    }
  ]
}